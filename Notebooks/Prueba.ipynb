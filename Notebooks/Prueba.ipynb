{
 "cells": [
  {
   "cell_type": "markdown",
   "id": "c34e6e64",
   "metadata": {},
   "source": [
    "# Prueba"
   ]
  },
  {
   "cell_type": "code",
   "execution_count": 13,
   "id": "0528a600",
   "metadata": {},
   "outputs": [
    {
     "name": "stdout",
     "output_type": "stream",
     "text": [
      "Cantidad de varones (ponderados): 14471801\n",
      "Cantidad de mujeres (ponderadas): 15248344\n",
      "Personas mayores de edad con estudios secundarios completos (ponderadas): 14267407\n",
      "Porcentaje de viviendas ocupadas por propietarios: 66.47%\n",
      "Aglomerado con mayor cantidad de viviendas sin baño y más de 2 ocupantes: 33\n",
      "Aglomerado con menor cantidad de viviendas sin baño y más de 2 ocupantes: 6\n"
     ]
    }
   ],
   "source": [
    "import sys\n",
    "sys.path.append('../src/')\n",
    "from utils import configurar_ruta_datos, cargar_datos\n",
    "\n",
    "configurar_ruta_datos('../datos/prueba/')\n",
    "\n",
    "#Carga datos de individuos y hogares\n",
    "datos_individuos = cargar_datos('individual')\n",
    "datos_hogares = cargar_datos('hogar')\n",
    "\n",
    "# 1. Cantidad de varones y mujeres\n",
    "varones = int(sum(float(registro['PONDERA']) for registro in datos_individuos if registro['CH04'] == '1'))\n",
    "mujeres = int(sum(float(registro['PONDERA']) for registro in datos_individuos if registro['CH04'] == '2'))\n",
    "\n",
    "print(f\"Cantidad de varones (ponderados): {varones}\")\n",
    "print(f\"Cantidad de mujeres (ponderadas): {mujeres}\")\n",
    "\n",
    "# 2. Personas mayores de edad que completaron estudios secundarios\n",
    "# Conlumna 'CH06' indica la edad, columna NIVEL_ED indica el nivel educativo\n",
    "mayores_secundarios = int(sum(float(registro['PONDERA']) for registro in datos_individuos if int(registro['CH06']) >= 18 and registro['NIVEL_ED'] >= '4'))\n",
    "\n",
    "print(f\"Personas mayores de edad con estudios secundarios completos (ponderadas): {mayores_secundarios}\")\n",
    "\n",
    "# 3. Porcentaje de viviendas ocupadas por propietarios\n",
    "# Asumimos que la columna 'TENENCIA' indica la tenencia de la vivienda\n",
    "\n",
    "propietarios = sum(float(registro['PONDERA']) for registro in datos_hogares if (registro['II7'] == '1') or (registro['II7'] == '2'))\n",
    "# 'II7' = Tenencia de la vivienda, '1' = Propietario, '2' = Propietario con hipoteca\n",
    "total_viviendas = sum(float(registro['PONDERA']) for registro in datos_hogares)\n",
    "\n",
    "porcentaje_propietarios = (propietarios / total_viviendas) * 100\n",
    "print(f\"Porcentaje de viviendas ocupadas por propietarios: {porcentaje_propietarios:.2f}%\")\n",
    "\n",
    "# 4. Aglomerado con mayor y menor cantidad de viviendas con más de 2 ocupantes sin baño\n",
    "# Asumimos que 'AGLOMERADO' identifica el aglomerado, 'HOGAR_TAM' el tamaño del hogar, y 'BAÑO' si tiene baño\n",
    "viviendas_sin_baño = {}\n",
    "for hogar in datos_hogares:\n",
    "    if int(hogar['IX_TOT']) > 2 and hogar['IV8'] == '2':\n",
    "        aglomerado = hogar['AGLOMERADO']\n",
    "        viviendas_sin_baño[aglomerado] = viviendas_sin_baño.get(aglomerado, 0) + float(hogar['PONDERA'])\n",
    "\n",
    "aglomerado_mayor = max(viviendas_sin_baño, key=viviendas_sin_baño.get)\n",
    "aglomerado_menor = min(viviendas_sin_baño, key=viviendas_sin_baño.get)\n",
    "\n",
    "print(f\"Aglomerado con mayor cantidad de viviendas sin baño y más de 2 ocupantes: {aglomerado_mayor}\")\n",
    "print(f\"Aglomerado con menor cantidad de viviendas sin baño y más de 2 ocupantes: {aglomerado_menor}\")\n",
    "\n",
    "\n",
    "\n"
   ]
  }
 ],
 "metadata": {
  "kernelspec": {
   "display_name": ".venv",
   "language": "python",
   "name": "python3"
  },
  "language_info": {
   "codemirror_mode": {
    "name": "ipython",
    "version": 3
   },
   "file_extension": ".py",
   "mimetype": "text/x-python",
   "name": "python",
   "nbconvert_exporter": "python",
   "pygments_lexer": "ipython3",
   "version": "3.13.3"
  }
 },
 "nbformat": 4,
 "nbformat_minor": 5
}
