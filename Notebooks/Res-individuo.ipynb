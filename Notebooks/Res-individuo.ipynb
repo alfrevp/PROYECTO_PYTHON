{
 "cells": [
  {
   "cell_type": "markdown",
   "id": "c34e6e64",
   "metadata": {},
   "source": [
    "# Configuración Inicial"
   ]
  },
  {
   "cell_type": "code",
   "execution_count": 1,
   "id": "0528a600",
   "metadata": {},
   "outputs": [
    {
     "name": "stdout",
     "output_type": "stream",
     "text": [
      "Se han cargado 35 archivos de tipo 'individual' desde la ruta '../datos/'.\n"
     ]
    }
   ],
   "source": [
    "import sys\n",
    "sys.path.append('../src/')\n",
    "from utils import configurar_ruta_datos, cargar_datos\n",
    "\n",
    "configurar_ruta_datos('../datos/')\n",
    "datos_individuos = cargar_datos('individual')"
   ]
  },
  {
   "cell_type": "markdown",
   "id": "5c2c8534",
   "metadata": {
    "vscode": {
     "languageId": "plaintext"
    }
   },
   "source": [
    "# INDIVIDUO"
   ]
  },
  {
   "cell_type": "markdown",
   "id": "aeb6b647",
   "metadata": {},
   "source": [
    "Genero (CH04)"
   ]
  },
  {
   "cell_type": "code",
   "execution_count": 2,
   "id": "ceeaa19b",
   "metadata": {},
   "outputs": [],
   "source": [
    "for individuo in datos_individuos:\n",
    "    individuo['CH04_str'] = 'Masculino' if individuo['CH04'] == '1' else 'Femenino'"
   ]
  },
  {
   "cell_type": "markdown",
   "id": "30313cfb",
   "metadata": {
    "vscode": {
     "languageId": "plaintext"
    }
   },
   "source": [
    "Nivel educativo (NIVEL_ED)"
   ]
  },
  {
   "cell_type": "code",
   "execution_count": 3,
   "id": "3dfcd8a0",
   "metadata": {},
   "outputs": [],
   "source": [
    "# Crear la columna 'NIVEL_ED_str' utilizando un mapeo\n",
    "nivel_educativo_map = {\n",
    "    '1': 'Primario incompleto',\n",
    "    '2': 'Primario completo',\n",
    "    '3': 'Secundario incompleto',\n",
    "    '4': 'Secundario completo',\n",
    "    '5': 'Superior|universitario incompleto',\n",
    "    '6': 'Superior|universitario completo',\n",
    "    '7': 'Sin instrucción',\n",
    "    '9': 'No sabe|No responde'\n",
    "}\n",
    "\n",
    "for individuo in datos_individuos:\n",
    "    individuo['NIVEL_ED_str'] = nivel_educativo_map.get(individuo['NIVEL_ED'], 'Sin información')  # Valor por defecto"
   ]
  },
  {
   "cell_type": "markdown",
   "id": "6ed518e2",
   "metadata": {},
   "source": [
    "Condicion Laboral"
   ]
  },
  {
   "cell_type": "code",
   "execution_count": 4,
   "id": "4d100e8f",
   "metadata": {},
   "outputs": [],
   "source": [
    "for individuo in datos_individuos:\n",
    "    estado = individuo['ESTADO']\n",
    "    cat_ocup = individuo['CAT_OCUP']\n",
    "    \n",
    "    if estado == '1':\n",
    "        if cat_ocup in ('1', '2'):\n",
    "            individuo['CONDICION_LABORAL'] = 'Ocupado autónomo'\n",
    "        elif cat_ocup in ('3', '4', '9'):\n",
    "            individuo['CONDICION_LABORAL'] = 'Ocupado dependiente'\n",
    "    elif estado == '2':\n",
    "        individuo['CONDICION_LABORAL'] = 'Desocupado'\n",
    "    elif estado == '3':\n",
    "        individuo['CONDICION_LABORAL'] = 'Inactivo'\n",
    "    else:\n",
    "        individuo['CONDICION_LABORAL'] = 'Fuera de categoría/sin información'\n"
   ]
  },
  {
   "cell_type": "markdown",
   "id": "c4afad33",
   "metadata": {},
   "source": [
    "Nivel Universitario"
   ]
  },
  {
   "cell_type": "code",
   "execution_count": 5,
   "id": "4185a99c",
   "metadata": {},
   "outputs": [],
   "source": [
    "for individuo in datos_individuos:\n",
    "    if individuo['NIVEL_ED'] == '5': # Universitario incompleto\n",
    "        individuo['UNIVERSITARIO'] = '0'\n",
    "    elif individuo['NIVEL_ED'] == '6': # Universitario completo\n",
    "        individuo['UNIVERSITARIO'] = '1'\n",
    "    else: # No aplicable\n",
    "        individuo['UNIVERSITARIO'] = '2'"
   ]
  },
  {
   "cell_type": "markdown",
   "id": "3791aabb",
   "metadata": {},
   "source": [
    "# Almacenamiento en nuevos archivos"
   ]
  },
  {
   "cell_type": "code",
   "execution_count": 6,
   "id": "a401f437",
   "metadata": {},
   "outputs": [],
   "source": [
    "# Define las columnas que deseas guardar para individuos y hogares\n",
    "from collections import defaultdict\n",
    "import csv\n",
    "\n",
    "columnas_individuos = {'CODUSU','NRO_HOGAR','COMPONENTE','ANO4', 'TRIMESTRE','REGION','AGLOMERADO','PONDERA','CH04', 'CH04_str','CH06','CH07','CH09', 'CH15', 'NIVEL_ED','NIVEL_ED_str','ESTADO','CAT_INAC', 'CONDICION_LABORAL', 'UNIVERSITARIO','PP07H', 'PP04A'}\n",
    "\n",
    "# INDIVIDUOS\n",
    "# Agrupar datos por año y trimestre\n",
    "individuos_por_trimestre = defaultdict(list)\n",
    "for ind in datos_individuos:\n",
    "    anio = ind.get('ANO4', 'NA')\n",
    "    trimestre = ind.get('TRIMESTRE', 'NA')\n",
    "    if anio != 'NA' and trimestre != 'NA':\n",
    "        key = f\"A{anio}_T{trimestre}\"\n",
    "        individuos_por_trimestre[key].append(ind)\n",
    "\n",
    "# Crear archivos por cada grupo\n",
    "for key, individuos in individuos_por_trimestre.items():\n",
    "    with open(f'../datos/procesado/ind_{key}.csv', 'w', newline='', encoding='utf-8') as f:\n",
    "        writer = csv.DictWriter(f, fieldnames=list(columnas_individuos))       \n",
    "        writer.writeheader()\n",
    "        for ind in individuos:\n",
    "            limpio = {k: v for k, v in ind.items() if k in columnas_individuos}\n",
    "            writer.writerow(limpio)"
   ]
  }
 ],
 "metadata": {
  "kernelspec": {
   "display_name": ".venv",
   "language": "python",
   "name": "python3"
  },
  "language_info": {
   "codemirror_mode": {
    "name": "ipython",
    "version": 3
   },
   "file_extension": ".py",
   "mimetype": "text/x-python",
   "name": "python",
   "nbconvert_exporter": "python",
   "pygments_lexer": "ipython3",
   "version": "3.13.3"
  }
 },
 "nbformat": 4,
 "nbformat_minor": 5
}
