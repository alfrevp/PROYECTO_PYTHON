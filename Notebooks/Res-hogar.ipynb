{
 "cells": [
  {
   "cell_type": "markdown",
   "id": "c34e6e64",
   "metadata": {},
   "source": [
    "# Configuración Inicial"
   ]
  },
  {
   "cell_type": "code",
   "execution_count": 1,
   "id": "0528a600",
   "metadata": {},
   "outputs": [
    {
     "name": "stdout",
     "output_type": "stream",
     "text": [
      "Se han cargado 35 archivos de tipo 'hogar' desde la ruta '../datos/'.\n"
     ]
    }
   ],
   "source": [
    "import sys\n",
    "sys.path.append('../src/')\n",
    "from utils import configurar_ruta_datos, cargar_datos\n",
    "\n",
    "configurar_ruta_datos('../datos/')\n",
    "datos_hogares = cargar_datos('hogar')"
   ]
  },
  {
   "cell_type": "markdown",
   "id": "f2d05908",
   "metadata": {},
   "source": [
    "# HOGAR"
   ]
  },
  {
   "cell_type": "markdown",
   "id": "778cabbc",
   "metadata": {},
   "source": [
    "Tipo de hogar"
   ]
  },
  {
   "cell_type": "code",
   "execution_count": 2,
   "id": "443e06ff",
   "metadata": {},
   "outputs": [],
   "source": [
    "for hogar in datos_hogares:\n",
    "    personas = int(hogar['IX_TOT'])\n",
    "    if personas == 1:\n",
    "        # Hogar unipersonal\n",
    "        hogar['TIPO_HOGAR'] = 'Unipersonal'\n",
    "    elif personas > 1 and personas <= 5:\n",
    "        # Hogar pequeño\n",
    "        hogar['TIPO_HOGAR'] = 'Nuclear'\n",
    "    elif personas > 5:\n",
    "        # Hogar grande\n",
    "        hogar['TIPO_HOGAR'] = 'Extendido'\n",
    "    else:\n",
    "         # Hogar vacío / Sin información\n",
    "        hogar['TIPO_HOGAR'] = 'Sin información'"
   ]
  },
  {
   "cell_type": "markdown",
   "id": "fc07b987",
   "metadata": {},
   "source": [
    "Material"
   ]
  },
  {
   "cell_type": "code",
   "execution_count": 3,
   "id": "0865bc73",
   "metadata": {},
   "outputs": [],
   "source": [
    "for hogar in datos_hogares:\n",
    "    material = int(hogar['IV4'] if hogar['IV4'] != '' else '0')\n",
    "    if material >= 1 and material <= 4:\n",
    "        # Durable\n",
    "        hogar['MATERIAL_TECHUMBRE'] = 'Material durable'\n",
    "    elif material >= 5 and material <= 7:\n",
    "        # Precario\n",
    "        hogar['MATERIAL_TECHUMBRE'] = 'Material precario'\n",
    "    else:\n",
    "        # Sin información\n",
    "        hogar['MATERIAL_TECHUMBRE'] = 'No aplica'"
   ]
  },
  {
   "cell_type": "markdown",
   "id": "cc6e50cc",
   "metadata": {},
   "source": [
    "Densidad del hogar"
   ]
  },
  {
   "cell_type": "code",
   "execution_count": 4,
   "id": "cbd8b837",
   "metadata": {},
   "outputs": [],
   "source": [
    "for hogar in datos_hogares:\n",
    "    if not( hogar['II1'].isdigit() and int(hogar['II1']) > 0):\n",
    "        hogar['DENSIDAD_HOGAR'] = 'Sin información'\n",
    "    else:\n",
    "        promedio = int(hogar['IX_TOT']) / int(hogar['II1'])\n",
    "        if promedio < 1:\n",
    "            hogar['DENSIDAD_HOGAR'] = 'Bajo'\n",
    "        elif promedio > 1 and promedio <= 2:\n",
    "            hogar['DENSIDAD_HOGAR'] = 'Medio'\n",
    "        else:\n",
    "            hogar['DENSIDAD_HOGAR'] = 'Alto'"
   ]
  },
  {
   "cell_type": "markdown",
   "id": "14aacb1c",
   "metadata": {},
   "source": [
    "Condición de Habitabilidad"
   ]
  },
  {
   "cell_type": "code",
   "execution_count": 5,
   "id": "fb086e47",
   "metadata": {},
   "outputs": [],
   "source": [
    "for hogar in datos_hogares:\n",
    "    puntaje = 0\n",
    "    \n",
    "    # 1. Puntaje por disponibilidad de agua (IV6)\n",
    "    if hogar['IV6'] == '1':\n",
    "        puntaje += 3\n",
    "    elif hogar['IV6'] == '2':\n",
    "        puntaje += 2\n",
    "    elif hogar['IV6'] == '3':\n",
    "        puntaje += 1\n",
    "    \n",
    "    # 2. Puntaje por existencia de baño (IV8)\n",
    "    if hogar['IV8'] == '1':\n",
    "        puntaje += 3\n",
    "\n",
    "    \n",
    "    # 3. Puntaje por tipo de desagüe (IV11)\n",
    "    if hogar['IV8'] == '1':  # Solo si tiene baño\n",
    "        if hogar['IV11'] == '1':\n",
    "            puntaje += 3\n",
    "        elif hogar['IV11'] == '2':\n",
    "            puntaje += 2\n",
    "        elif hogar['IV11'] == '3':\n",
    "            puntaje += 1\n",
    "    \n",
    "    # 4. Puntaje por material del techo\n",
    "    if hogar['MATERIAL_TECHUMBRE'] == 'Material durable':\n",
    "        puntaje += 3\n",
    "    elif hogar['MATERIAL_TECHUMBRE'] == 'Material precario':\n",
    "        puntaje += 1\n",
    "    \n",
    "    # 5. Puntaje por material de pisos (IV3)\n",
    "    if hogar['IV3'] == '1':\n",
    "        puntaje += 3\n",
    "    elif hogar['IV3'] == '2':\n",
    "        puntaje += 2\n",
    "    elif hogar['IV3'] == '3':\n",
    "        puntaje += 1\n",
    "    \n",
    "    # Asignar clasificación según puntaje total\n",
    "    if puntaje >= 12:\n",
    "        hogar['CONDICION_DE_HABITABILIDAD'] = 'Buena'\n",
    "    elif puntaje > 8:\n",
    "        hogar['CONDICION_DE_HABITABILIDAD'] = 'Saludable'\n",
    "    elif puntaje > 6:\n",
    "        hogar['CONDICION_DE_HABITABILIDAD'] = 'Regular'\n",
    "    else:\n",
    "        hogar['CONDICION_DE_HABITABILIDAD'] = 'Insuficiente'\n",
    "        "
   ]
  },
  {
   "cell_type": "markdown",
   "id": "3791aabb",
   "metadata": {},
   "source": [
    "# Almacenamiento en nuevos archivos"
   ]
  },
  {
   "cell_type": "code",
   "execution_count": 6,
   "id": "a401f437",
   "metadata": {},
   "outputs": [],
   "source": [
    "# Define las columnas que deseas guardar para individuos y hogares\n",
    "from collections import defaultdict\n",
    "import csv\n",
    "\n",
    "columnas_hogares = {'CODUSU', 'NRO_HOGAR', 'ANO4', 'TRIMESTRE', 'REGION', 'AGLOMERADO', 'PONDERA', 'TIPO_HOGAR', 'DENSIDAD_HOGAR', 'MATERIAL_TECHUMBRE', 'CONDICION_DE_HABITABILIDAD', 'II1', 'II7', 'IV1', 'IV3', 'IV4', 'IV6', 'IV8', 'IV9', 'IV11', 'IV12_3', 'ITF', 'IX_TOT'}\n",
    "\n",
    "# HOGARES\n",
    "# Agrupar datos por año y trimestre\n",
    "hogares_por_trimestre = defaultdict(list)\n",
    "for hogar in datos_hogares:\n",
    "    anio = hogar.get('ANO4', 'NA')\n",
    "    trimestre = hogar.get('TRIMESTRE', 'NA')\n",
    "    if anio != 'NA' and trimestre != 'NA':\n",
    "        key = f\"A{anio}_T{trimestre}\"\n",
    "        hogares_por_trimestre[key].append(hogar)\n",
    "\n",
    "# Crear archivos por cada grupo\n",
    "for key, hogares in hogares_por_trimestre.items():\n",
    "    with open(f'../datos/procesado/hog_{key}.csv', 'w', newline='', encoding='utf-8') as f:\n",
    "        writer = csv.DictWriter(f, fieldnames=list(columnas_hogares))\n",
    "        writer.writeheader()\n",
    "        for hogar in hogares:\n",
    "            limpio = {k: v for k, v in hogar.items() if k in columnas_hogares}\n",
    "            writer.writerow(limpio)"
   ]
  }
 ],
 "metadata": {
  "kernelspec": {
   "display_name": ".venv",
   "language": "python",
   "name": "python3"
  },
  "language_info": {
   "codemirror_mode": {
    "name": "ipython",
    "version": 3
   },
   "file_extension": ".py",
   "mimetype": "text/x-python",
   "name": "python",
   "nbconvert_exporter": "python",
   "pygments_lexer": "ipython3",
   "version": "3.13.3"
  }
 },
 "nbformat": 4,
 "nbformat_minor": 5
}
